{
 "cells": [
  {
   "cell_type": "markdown",
   "id": "8c19d13f",
   "metadata": {},
   "source": [
    "# 线性回归的简洁实现\n"
   ]
  },
  {
   "cell_type": "markdown",
   "id": "9ca7291a",
   "metadata": {},
   "source": [
    "**生成数据集**"
   ]
  },
  {
   "cell_type": "code",
   "execution_count": 1,
   "id": "0a3075ba",
   "metadata": {},
   "outputs": [],
   "source": [
    "import numpy as np\n",
    "import torch\n",
    "from torch.utils import data\n",
    "from d2l import torch as d2l"
   ]
  },
  {
   "cell_type": "code",
   "execution_count": 2,
   "id": "7194e63e",
   "metadata": {},
   "outputs": [],
   "source": [
    "true_w = torch.tensor([2, -3.4])\n",
    "true_b = 4.2\n",
    "features, labels = d2l.synthetic_data(true_w, true_b, 1000)"
   ]
  },
  {
   "cell_type": "markdown",
   "id": "191fd55c",
   "metadata": {},
   "source": [
    "**读取数据集**\n",
    "\n",
    "我们可以调用框架中现有的API来读取数据。我们将features和labels作为API的参数传递，并通过数据迭代器指定batch_size。此外，布尔值is_train表示是否希望数据迭代器对象在每个迭代周期内打乱数据"
   ]
  },
  {
   "cell_type": "code",
   "execution_count": 3,
   "id": "107b81a7",
   "metadata": {},
   "outputs": [],
   "source": [
    "def load_array(data_arrays, batch_size, is_train=True):  #@save\n",
    "    \"\"\"构造一个PyTorch数据迭代器\"\"\"\n",
    "#如果 data_arrays 是一个包含多个张量的列表或元组，\n",
    "#那么 *data_arrays 将解包这些张量，将它们作为独立的参数传递给 data.TensorDataset 构造函数\n",
    "    dataset = data.TensorDataset(*data_arrays)\n",
    "    return data.DataLoader(dataset, batch_size, shuffle=is_train)"
   ]
  },
  {
   "cell_type": "code",
   "execution_count": 7,
   "id": "bc15e8ae",
   "metadata": {},
   "outputs": [],
   "source": [
    "batch_size = 10\n",
    "data_iter = load_array((features, labels), batch_size)"
   ]
  },
  {
   "cell_type": "code",
   "execution_count": 8,
   "id": "0b8ee24e",
   "metadata": {},
   "outputs": [
    {
     "data": {
      "text/plain": [
       "[tensor([[ 0.8096, -0.3684],\n",
       "         [ 1.1372, -1.5207],\n",
       "         [ 1.7499,  0.4609],\n",
       "         [-0.4131, -0.2234],\n",
       "         [ 0.7321, -0.6228],\n",
       "         [ 0.7048, -0.3746],\n",
       "         [-0.3290,  0.3150],\n",
       "         [-1.0757,  0.0633],\n",
       "         [-1.4805, -0.3815],\n",
       "         [ 1.5379, -1.0866]]),\n",
       " tensor([[ 7.0711],\n",
       "         [11.6600],\n",
       "         [ 6.1256],\n",
       "         [ 4.1350],\n",
       "         [ 7.7720],\n",
       "         [ 6.8826],\n",
       "         [ 2.4657],\n",
       "         [ 1.8346],\n",
       "         [ 2.5266],\n",
       "         [10.9657]])]"
      ]
     },
     "execution_count": 8,
     "metadata": {},
     "output_type": "execute_result"
    }
   ],
   "source": [
    "#iter是把它转换成python的iterator\n",
    "next(iter(data_iter))"
   ]
  },
  {
   "cell_type": "markdown",
   "id": "4b6269db",
   "metadata": {},
   "source": [
    "**定义模型**\n",
    "\n",
    "使用 Sequential 类，你可以按照顺序定义神经网络的层，然后将输入数据传递给该模型，它会按照你定义的顺序自动执行前向传播（forward pass）"
   ]
  },
  {
   "cell_type": "code",
   "execution_count": 10,
   "id": "861fea5d",
   "metadata": {},
   "outputs": [],
   "source": [
    "from torch import nn\n",
    "net = nn.Sequential(nn.Linear(2, 1))"
   ]
  },
  {
   "cell_type": "markdown",
   "id": "c7bc19da",
   "metadata": {},
   "source": [
    "**初始化参数**\n",
    "\n",
    "我们通过net[0]选择网络中的第一个图层， 然后使用weight.data和bias.data方法访问参数。 我们还可以使用替换方法normal_和fill_来重写参数值。"
   ]
  },
  {
   "cell_type": "code",
   "execution_count": 14,
   "id": "cd4a0393",
   "metadata": {},
   "outputs": [
    {
     "data": {
      "text/plain": [
       "tensor([0.])"
      ]
     },
     "execution_count": 14,
     "metadata": {},
     "output_type": "execute_result"
    }
   ],
   "source": [
    "net[0].weight.data.normal_(0, 0.01)\n",
    "net[0].bias.data.fill_(0)"
   ]
  },
  {
   "cell_type": "markdown",
   "id": "7170931a",
   "metadata": {},
   "source": [
    "**定义损失函数**\n",
    "\n",
    "[**计算均方误差使用的是`MSELoss`类，也称为平方$L_2$范数**]。\n",
    "默认情况下，它返回所有样本损失的平均值。\n"
   ]
  },
  {
   "cell_type": "code",
   "execution_count": 15,
   "id": "d020e0d7",
   "metadata": {},
   "outputs": [],
   "source": [
    "loss = nn.MSELoss()"
   ]
  },
  {
   "cell_type": "markdown",
   "id": "92a860b6",
   "metadata": {},
   "source": [
    "**定义优化算法**\n",
    "\n",
    "小批量随机梯度下降算法是一种优化神经网络的标准工具，\n",
    "PyTorch在`optim`模块中实现了该算法的许多变种。\n",
    "当我们(**实例化一个`SGD`实例**)时，我们要指定优化的参数\n",
    "（可通过`net.parameters()`从我们的模型中获得）以及优化算法所需的超参数字典。\n",
    "小批量随机梯度下降只需要设置`lr`值，这里设置为0.03。"
   ]
  },
  {
   "cell_type": "code",
   "execution_count": 16,
   "id": "f7c83520",
   "metadata": {},
   "outputs": [],
   "source": [
    "trainer = torch.optim.SGD(net.parameters(), lr=0.03)"
   ]
  },
  {
   "cell_type": "markdown",
   "id": "c364f033",
   "metadata": {},
   "source": [
    "**训练**\n",
    "\n",
    "通过深度学习框架的高级API来实现我们的模型只需要相对较少的代码。\n",
    "我们不必单独分配参数、不必定义我们的损失函数，也不必手动实现小批量随机梯度下降。\n",
    "\n",
    "\n",
    "回顾一下：在每个迭代周期里，我们将完整遍历一次数据集（`train_data`），\n",
    "不停地从中获取一个小批量的输入和相应的标签。\n",
    "对于每一个小批量，我们会进行以下步骤:\n",
    "\n",
    "* 通过调用`net(X)`生成预测并计算损失`l`（前向传播）。\n",
    "* 通过进行反向传播来计算梯度。\n",
    "* 通过调用优化器来更新模型参数。\n",
    "\n",
    "为了更好的衡量训练效果，我们计算每个迭代周期后的损失，并打印它来监控训练过程。"
   ]
  },
  {
   "cell_type": "code",
   "execution_count": 17,
   "id": "66a7f528",
   "metadata": {},
   "outputs": [
    {
     "name": "stdout",
     "output_type": "stream",
     "text": [
      "epoch 1, loss 0.000276\n",
      "epoch 2, loss 0.000091\n",
      "epoch 3, loss 0.000091\n"
     ]
    }
   ],
   "source": [
    "num_epochs = 3\n",
    "for epoch in range(num_epochs):\n",
    "    #以batch_size为步长，遍历数据集\n",
    "    for X, y in data_iter:\n",
    "        #forward算出loss值\n",
    "        l = loss(net(X) ,y)\n",
    "        trainer.zero_grad()\n",
    "        #backward，求出梯度，更新参数\n",
    "        l.backward()\n",
    "        trainer.step()\n",
    "    #这里不清零因为只用forward，不需要backward\n",
    "    l = loss(net(features), labels)\n",
    "    print(f'epoch {epoch + 1}, loss {l:f}')"
   ]
  },
  {
   "cell_type": "code",
   "execution_count": 18,
   "id": "9e4dad2c",
   "metadata": {},
   "outputs": [
    {
     "name": "stdout",
     "output_type": "stream",
     "text": [
      "w的估计误差： tensor([-0.0004, -0.0002])\n",
      "b的估计误差： tensor([-0.0004])\n"
     ]
    }
   ],
   "source": [
    "w = net[0].weight.data\n",
    "print('w的估计误差：', true_w - w.reshape(true_w.shape))\n",
    "b = net[0].bias.data\n",
    "print('b的估计误差：', true_b - b)"
   ]
  },
  {
   "cell_type": "code",
   "execution_count": null,
   "id": "c452ed41",
   "metadata": {},
   "outputs": [],
   "source": []
  }
 ],
 "metadata": {
  "kernelspec": {
   "display_name": "d2l",
   "language": "python",
   "name": "d2l"
  },
  "language_info": {
   "codemirror_mode": {
    "name": "ipython",
    "version": 3
   },
   "file_extension": ".py",
   "mimetype": "text/x-python",
   "name": "python",
   "nbconvert_exporter": "python",
   "pygments_lexer": "ipython3",
   "version": "3.9.18"
  }
 },
 "nbformat": 4,
 "nbformat_minor": 5
}
