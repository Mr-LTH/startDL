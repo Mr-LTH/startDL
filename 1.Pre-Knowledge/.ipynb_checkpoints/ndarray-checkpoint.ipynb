{
 "cells": [
  {
   "cell_type": "code",
   "execution_count": 41,
   "id": "5843a278",
   "metadata": {},
   "outputs": [],
   "source": [
    "import torch"
   ]
  },
  {
   "cell_type": "markdown",
   "id": "e27fec61",
   "metadata": {},
   "source": [
    "## 入门\n",
    "\n",
    "**理解什么是张量**\n"
   ]
  },
  {
   "cell_type": "code",
   "execution_count": 42,
   "id": "27b9664d",
   "metadata": {},
   "outputs": [
    {
     "data": {
      "text/plain": [
       "tensor([ 0,  1,  2,  3,  4,  5,  6,  7,  8,  9, 10, 11])"
      ]
     },
     "execution_count": 42,
     "metadata": {},
     "output_type": "execute_result"
    }
   ],
   "source": [
    "x = torch.arange(12)\n",
    "x"
   ]
  },
  {
   "cell_type": "markdown",
   "id": "099e82a3",
   "metadata": {},
   "source": [
    "通过**shape**访问张量的形状（沿某个轴）"
   ]
  },
  {
   "cell_type": "code",
   "execution_count": 43,
   "id": "fb76ed0e",
   "metadata": {},
   "outputs": [
    {
     "data": {
      "text/plain": [
       "torch.Size([12])"
      ]
     },
     "execution_count": 43,
     "metadata": {},
     "output_type": "execute_result"
    }
   ],
   "source": [
    "x.shape\n",
    "#x.size() size是所有元素个数"
   ]
  },
  {
   "cell_type": "code",
   "execution_count": 44,
   "id": "bbdb36de",
   "metadata": {},
   "outputs": [
    {
     "data": {
      "text/plain": [
       "12"
      ]
     },
     "execution_count": 44,
     "metadata": {},
     "output_type": "execute_result"
    }
   ],
   "source": [
    "x.numel()"
   ]
  },
  {
   "cell_type": "markdown",
   "id": "2f1afcb5",
   "metadata": {},
   "source": [
    "**reshape()** 来改变张量的形状\n",
    "\n",
    "参数-1为自动计算，前提是你指定了另外所有的维度"
   ]
  },
  {
   "cell_type": "code",
   "execution_count": 45,
   "id": "adf2ae77",
   "metadata": {},
   "outputs": [
    {
     "name": "stdout",
     "output_type": "stream",
     "text": [
      "tensor([[ 0,  1,  2,  3],\n",
      "        [ 4,  5,  6,  7],\n",
      "        [ 8,  9, 10, 11]])\n",
      "tensor([[ 0,  1,  2,  3,  4,  5],\n",
      "        [ 6,  7,  8,  9, 10, 11]])\n"
     ]
    }
   ],
   "source": [
    "x = x.reshape(3,4)\n",
    "print(x)\n",
    "x = x.reshape(-1,6)\n",
    "print(x)"
   ]
  },
  {
   "cell_type": "markdown",
   "id": "f119c659",
   "metadata": {},
   "source": [
    "**zeros()/ones()** 来初始化全0或全1的张量"
   ]
  },
  {
   "cell_type": "code",
   "execution_count": 46,
   "id": "0e5023ed",
   "metadata": {},
   "outputs": [
    {
     "data": {
      "text/plain": [
       "tensor([[[0., 0., 0., 0.],\n",
       "         [0., 0., 0., 0.],\n",
       "         [0., 0., 0., 0.]],\n",
       "\n",
       "        [[0., 0., 0., 0.],\n",
       "         [0., 0., 0., 0.],\n",
       "         [0., 0., 0., 0.]]])"
      ]
     },
     "execution_count": 46,
     "metadata": {},
     "output_type": "execute_result"
    }
   ],
   "source": [
    "#注意，三维的第一个参数是通道数\n",
    "torch.zeros(2,3,4)"
   ]
  },
  {
   "cell_type": "markdown",
   "id": "67b43df2",
   "metadata": {},
   "source": [
    "**randn()** 用标准正态分布来初始化张量"
   ]
  },
  {
   "cell_type": "code",
   "execution_count": 47,
   "id": "18c8d5e5",
   "metadata": {},
   "outputs": [
    {
     "data": {
      "text/plain": [
       "tensor([[[ 6.4120e-01, -1.1819e+00, -1.0057e+00,  2.6048e-01],\n",
       "         [-9.6463e-01,  8.7672e-01, -7.3659e-01, -2.0357e-01],\n",
       "         [ 8.4864e-01,  3.0938e-01,  6.7097e-01, -9.0740e-01]],\n",
       "\n",
       "        [[ 7.1762e-01,  2.1004e+00,  1.3189e+00,  3.7963e-02],\n",
       "         [ 1.5631e-03,  2.1249e-01, -1.7180e+00,  1.2655e+00],\n",
       "         [-2.8296e-01,  9.6583e-01, -1.0381e+00,  7.5209e-01]]])"
      ]
     },
     "execution_count": 47,
     "metadata": {},
     "output_type": "execute_result"
    }
   ],
   "source": [
    "torch.randn(2,3,4)"
   ]
  },
  {
   "cell_type": "markdown",
   "id": "4cdf9085",
   "metadata": {},
   "source": [
    "---\n",
    "\n",
    "## 运算符\n",
    "\n",
    "我们要在张量上执行数学运算\n",
    "\n",
    "对于任意具有相同形状的张量，常见的标准算术运算\\符（+、-、*、/和**）都可以被升级为按元素运算。\n",
    "\n"
   ]
  },
  {
   "cell_type": "code",
   "execution_count": 48,
   "id": "c72b29a7",
   "metadata": {},
   "outputs": [
    {
     "data": {
      "text/plain": [
       "(tensor([ 3.,  4.,  6., 10.]),\n",
       " tensor([-1.,  0.,  2.,  6.]),\n",
       " tensor([ 2.,  4.,  8., 16.]),\n",
       " tensor([0.5000, 1.0000, 2.0000, 4.0000]),\n",
       " tensor([ 1.,  4., 16., 64.]))"
      ]
     },
     "execution_count": 48,
     "metadata": {},
     "output_type": "execute_result"
    }
   ],
   "source": [
    "x = torch.tensor([1.0, 2, 4, 8])\n",
    "y = torch.tensor([2, 2, 2, 2])\n",
    "x + y, x - y, x * y, x / y, x ** y # **运算符是求幂运算"
   ]
  },
  {
   "cell_type": "code",
   "execution_count": 49,
   "id": "fd677cc0",
   "metadata": {},
   "outputs": [
    {
     "data": {
      "text/plain": [
       "tensor([2.7183e+00, 7.3891e+00, 5.4598e+01, 2.9810e+03])"
      ]
     },
     "execution_count": 49,
     "metadata": {},
     "output_type": "execute_result"
    }
   ],
   "source": [
    "#包括求幂运算\n",
    "torch.exp(x)"
   ]
  },
  {
   "cell_type": "markdown",
   "id": "f655608c",
   "metadata": {},
   "source": [
    "用cat()把两个张量连接起来，**dim=0/1**，0是沿行连接，1是沿列连接"
   ]
  },
  {
   "cell_type": "code",
   "execution_count": 50,
   "id": "5742022f",
   "metadata": {},
   "outputs": [
    {
     "data": {
      "text/plain": [
       "(tensor([[ 0.,  1.,  2.,  3.],\n",
       "         [ 4.,  5.,  6.,  7.],\n",
       "         [ 8.,  9., 10., 11.]]),\n",
       " tensor([[2., 1., 4., 3.],\n",
       "         [1., 2., 3., 4.],\n",
       "         [4., 3., 2., 1.]]),\n",
       " tensor([[ 0.,  1.,  2.,  3.],\n",
       "         [ 4.,  5.,  6.,  7.],\n",
       "         [ 8.,  9., 10., 11.],\n",
       "         [ 2.,  1.,  4.,  3.],\n",
       "         [ 1.,  2.,  3.,  4.],\n",
       "         [ 4.,  3.,  2.,  1.]]),\n",
       " tensor([[ 0.,  1.,  2.,  3.,  2.,  1.,  4.,  3.],\n",
       "         [ 4.,  5.,  6.,  7.,  1.,  2.,  3.,  4.],\n",
       "         [ 8.,  9., 10., 11.,  4.,  3.,  2.,  1.]]))"
      ]
     },
     "execution_count": 50,
     "metadata": {},
     "output_type": "execute_result"
    }
   ],
   "source": [
    "X = torch.arange(12, dtype=torch.float32).reshape((3,4))\n",
    "Y = torch.tensor([[2.0, 1, 4, 3], [1, 2, 3, 4], [4, 3, 2, 1]])\n",
    "X,Y,torch.cat((X, Y), dim=0), torch.cat((X, Y), dim=1)"
   ]
  },
  {
   "cell_type": "markdown",
   "id": "66043770",
   "metadata": {},
   "source": [
    "**==** 符号判断张量每个位置是否相等，**sum()** 求和，产生一个**单元素张量**"
   ]
  },
  {
   "cell_type": "code",
   "execution_count": 64,
   "id": "209d0942",
   "metadata": {},
   "outputs": [
    {
     "name": "stdout",
     "output_type": "stream",
     "text": [
      "tensor([[False, False, False, False],\n",
      "        [False, False, False, False],\n",
      "        [False, False, False, False]])\n",
      "tensor([[True, True, True, True],\n",
      "        [True, True, True, True],\n",
      "        [True, True, True, True]])\n"
     ]
    },
    {
     "data": {
      "text/plain": [
       "tensor(298.)"
      ]
     },
     "execution_count": 64,
     "metadata": {},
     "output_type": "execute_result"
    }
   ],
   "source": [
    "print(X == Y)\n",
    "print(X > Y)\n",
    "X.sum()"
   ]
  },
  {
   "cell_type": "markdown",
   "id": "1fb99241",
   "metadata": {},
   "source": [
    "---\n",
    "\n",
    "## 广播机制\n",
    "\n",
    "broadcasting mechanism\n",
    "\n",
    "这种机制的工作方式如\n",
    "下：\n",
    "1. 通过适当复制元素来扩展一个或两个数组，以便在转换之后，两个张量具有相同的形状；\n",
    "2. 对生成的数组执行按元素操作。\n"
   ]
  },
  {
   "cell_type": "code",
   "execution_count": 52,
   "id": "6691b94e",
   "metadata": {},
   "outputs": [
    {
     "data": {
      "text/plain": [
       "(tensor([[0],\n",
       "         [1],\n",
       "         [2]]),\n",
       " tensor([[0, 1]]))"
      ]
     },
     "execution_count": 52,
     "metadata": {},
     "output_type": "execute_result"
    }
   ],
   "source": [
    "a = torch.arange(3).reshape((3, 1))\n",
    "b = torch.arange(2).reshape((1, 2))\n",
    "a, b"
   ]
  },
  {
   "cell_type": "markdown",
   "id": "b496152b",
   "metadata": {},
   "source": [
    "a,b矩阵形状不匹配，相加会将a复制列，b复制行，再相加"
   ]
  },
  {
   "cell_type": "code",
   "execution_count": 53,
   "id": "32b764a7",
   "metadata": {},
   "outputs": [
    {
     "data": {
      "text/plain": [
       "tensor([[0, 1],\n",
       "        [1, 2],\n",
       "        [2, 3]])"
      ]
     },
     "execution_count": 53,
     "metadata": {},
     "output_type": "execute_result"
    }
   ],
   "source": [
    "a + b"
   ]
  },
  {
   "cell_type": "code",
   "execution_count": 76,
   "id": "2556a0de",
   "metadata": {},
   "outputs": [
    {
     "name": "stdout",
     "output_type": "stream",
     "text": [
      "tensor([[[ 0,  1,  2],\n",
      "         [ 3,  4,  5]],\n",
      "\n",
      "        [[ 6,  7,  8],\n",
      "         [ 9, 10, 11]]])\n",
      "tensor([[[0, 1, 2],\n",
      "         [3, 4, 5]]])\n"
     ]
    },
    {
     "data": {
      "text/plain": [
       "tensor([[[ 0,  2,  4],\n",
       "         [ 6,  8, 10]],\n",
       "\n",
       "        [[ 6,  8, 10],\n",
       "         [12, 14, 16]]])"
      ]
     },
     "execution_count": 76,
     "metadata": {},
     "output_type": "execute_result"
    }
   ],
   "source": [
    "#三维的广播情况\n",
    "A1 = torch.arange(12).reshape(-1,2,3)\n",
    "A2 = torch.arange(0,6).reshape(-1,2,3)\n",
    "print(A1)\n",
    "print(A2)\n",
    "A1+A2"
   ]
  },
  {
   "cell_type": "markdown",
   "id": "eaedf2cd",
   "metadata": {},
   "source": [
    "---\n",
    "## 索引和切片\n",
    "\n",
    "\n",
    "和python类似，第一个元素索引是0，最后一个元素索引是-1\n",
    "\n",
    "X[1:3]选中第二个和第三元素，注意X是二维的，所以是按行在取\n",
    "\n",
    "“:”代表沿轴1（行）的所有元素"
   ]
  },
  {
   "cell_type": "code",
   "execution_count": 54,
   "id": "60c80a80",
   "metadata": {},
   "outputs": [
    {
     "name": "stdout",
     "output_type": "stream",
     "text": [
      "tensor([[ 0.,  1.,  2.,  3.],\n",
      "        [ 4.,  5.,  6.,  7.],\n",
      "        [ 8.,  9., 10., 11.]])\n"
     ]
    },
    {
     "data": {
      "text/plain": [
       "(tensor([ 8.,  9., 10., 11.]),\n",
       " tensor([[ 4.,  5.,  6.,  7.],\n",
       "         [ 8.,  9., 10., 11.]]),\n",
       " tensor([1., 5., 9.]))"
      ]
     },
     "execution_count": 54,
     "metadata": {},
     "output_type": "execute_result"
    }
   ],
   "source": [
    "print(X)\n",
    "X[-1],X[1:3],X[:,1]"
   ]
  },
  {
   "cell_type": "code",
   "execution_count": 55,
   "id": "71d738d7",
   "metadata": {},
   "outputs": [
    {
     "data": {
      "text/plain": [
       "tensor([[12., 12., 12., 12.],\n",
       "        [12., 12., 12., 12.],\n",
       "        [ 8.,  9., 10., 11.]])"
      ]
     },
     "execution_count": 55,
     "metadata": {},
     "output_type": "execute_result"
    }
   ],
   "source": [
    "X[0:2,:] = 12\n",
    "X"
   ]
  },
  {
   "cell_type": "markdown",
   "id": "e9ac31cc",
   "metadata": {},
   "source": [
    "---\n",
    "## 节省内存\n",
    "\n",
    "运行一些操作可能会导致为新结果分配内存。例如，如果我们用Y = X + Y，我们将取消引用Y指向的张量，\n",
    "而是指向新分配的内存处的张量。"
   ]
  },
  {
   "cell_type": "code",
   "execution_count": 56,
   "id": "6df9968b",
   "metadata": {},
   "outputs": [
    {
     "name": "stdout",
     "output_type": "stream",
     "text": [
      "2545983843920\n",
      "2545993117584\n"
     ]
    }
   ],
   "source": [
    "print(id(Y))\n",
    "Y = Y + X\n",
    "print(id(Y))"
   ]
  },
  {
   "cell_type": "markdown",
   "id": "3f239f96",
   "metadata": {},
   "source": [
    "$Y[:]= <expression>$ 和$X += Y$ 都以用来节省内存开销"
   ]
  },
  {
   "cell_type": "code",
   "execution_count": 59,
   "id": "fbe7113b",
   "metadata": {},
   "outputs": [
    {
     "name": "stdout",
     "output_type": "stream",
     "text": [
      "id(Z): 2545993174448\n",
      "id(Z): 2545993174448\n"
     ]
    },
    {
     "data": {
      "text/plain": [
       "True"
      ]
     },
     "execution_count": 59,
     "metadata": {},
     "output_type": "execute_result"
    }
   ],
   "source": [
    "Z = torch.zeros_like(Y)\n",
    "print('id(Z):', id(Z))\n",
    "Z[:] = X + Y\n",
    "print('id(Z):', id(Z))\n",
    "before = id(X)\n",
    "X += Y\n",
    "id(X) == before"
   ]
  },
  {
   "cell_type": "markdown",
   "id": "16e34343",
   "metadata": {},
   "source": [
    "---\n",
    "## 转换为其他对象\n",
    "\n",
    "将深度学习框架定义的张量转换为NumPy张量（ndarray）很容易，反之也同样容易。"
   ]
  },
  {
   "cell_type": "code",
   "execution_count": 63,
   "id": "867193d3",
   "metadata": {},
   "outputs": [
    {
     "name": "stdout",
     "output_type": "stream",
     "text": [
      "<class 'torch.Tensor'>\n"
     ]
    },
    {
     "data": {
      "text/plain": [
       "(numpy.ndarray, torch.Tensor)"
      ]
     },
     "execution_count": 63,
     "metadata": {},
     "output_type": "execute_result"
    }
   ],
   "source": [
    "print(type(X))\n",
    "A = X.numpy()\n",
    "B = torch.tensor(A)\n",
    "type(A), type(B)"
   ]
  },
  {
   "cell_type": "markdown",
   "id": "cf2ca719",
   "metadata": {},
   "source": [
    "用 **item()** 将单元素张量转换为python标量"
   ]
  },
  {
   "cell_type": "code",
   "execution_count": 61,
   "id": "ff43cdd1",
   "metadata": {},
   "outputs": [
    {
     "data": {
      "text/plain": [
       "(tensor([3.5000]), 3.5, 3.5, 3)"
      ]
     },
     "execution_count": 61,
     "metadata": {},
     "output_type": "execute_result"
    }
   ],
   "source": [
    "a = torch.tensor([3.5])\n",
    "a, a.item(), float(a), int(a)"
   ]
  },
  {
   "cell_type": "code",
   "execution_count": null,
   "id": "2b69d873",
   "metadata": {},
   "outputs": [],
   "source": []
  }
 ],
 "metadata": {
  "kernelspec": {
   "display_name": "d2l",
   "language": "python",
   "name": "d2l"
  },
  "language_info": {
   "codemirror_mode": {
    "name": "ipython",
    "version": 3
   },
   "file_extension": ".py",
   "mimetype": "text/x-python",
   "name": "python",
   "nbconvert_exporter": "python",
   "pygments_lexer": "ipython3",
   "version": "3.9.18"
  }
 },
 "nbformat": 4,
 "nbformat_minor": 5
}
